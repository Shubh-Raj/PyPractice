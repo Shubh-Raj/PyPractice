{
 "cells": [
  {
   "cell_type": "code",
   "execution_count": 2,
   "metadata": {},
   "outputs": [],
   "source": [
    "import numpy as np\n",
    "import matplotlib.pyplot as plt\n",
    "import decimal"
   ]
  },
  {
   "cell_type": "code",
   "execution_count": 16,
   "metadata": {},
   "outputs": [
    {
     "name": "stdout",
     "output_type": "stream",
     "text": [
      "Enter the intial velocity in m/s: 10\n",
      "Enter the angle in radians: pi/2-1\n"
     ]
    }
   ],
   "source": [
    "u=float(input(\"Enter the intial velocity in m/s: \"))\n",
    "Angle=input(\"Enter the angle in radians: \")\n",
    "g=9.81\n",
    "\n",
    "\n",
    "def float_range(start, stop, step):\n",
    "  while start < stop:\n",
    "    yield float(start)\n",
    "    start += decimal.Decimal(step)"
   ]
  },
  {
   "cell_type": "code",
   "execution_count": 17,
   "metadata": {},
   "outputs": [
    {
     "name": "stdout",
     "output_type": "stream",
     "text": [
      "1.1015337530441176\n",
      "Range: 9.27\n",
      "Max height: 0.28\n"
     ]
    }
   ],
   "source": [
    "try:\n",
    "    Angle_float = float(Angle)\n",
    "    \n",
    "    \n",
    "except ValueError:\n",
    "    Angle_float = eval(\"np.\"+ str(Angle))\n",
    "    \n",
    "t_f = 2*(u*np.sin(Angle_float)/g)\n",
    "Range=u*np.cos(Angle_float)*t_f\n",
    "Max_h=u*np.sin(Angle_float)/(2*g)\n",
    "\n",
    "print(t_f)\n",
    "print(\"Range:\",round(Range, 2))\n",
    "print(\"Max height:\",round(Max_h, 2))"
   ]
  },
  {
   "cell_type": "code",
   "execution_count": 18,
   "metadata": {},
   "outputs": [
    {
     "data": {
      "image/png": "[encoded data removed]",
      "text/plain": [
       "<Figure size 432x288 with 1 Axes>"
      ]
     },
     "metadata": {
      "needs_background": "light"
     },
     "output_type": "display_data"
    }
   ],
   "source": [
    "    t=list(float_range(0,t_f+0.001,0.001))\n",
    "    t = [round(elem,3) for elem in t]\n",
    "    x=[u*np.cos(Angle_float)*i for i in t]\n",
    "    x=[round(elem,3) for elem in x]\n",
    "    y=[u*np.sin(Angle_float)*i - (1/2)*g*i**2 for i in t]\n",
    "    plt.plot(x,y, label=\"Trajectory\")\n",
    "    plt.title(\"Trajectory\")\n",
    "    plt.show()"
   ]
  },
  {
   "cell_type": "code",
   "execution_count": null,
   "metadata": {},
   "outputs": [],
   "source": []
  }
 ],
 "metadata": {
  "kernelspec": {
   "display_name": "Python 3",
   "language": "python",
   "name": "python3"
  },
  "language_info": {
   "codemirror_mode": {
    "name": "ipython",
    "version": 3
   },
   "file_extension": ".py",
   "mimetype": "text/x-python",
   "name": "python",
   "nbconvert_exporter": "python",
   "pygments_lexer": "ipython3",
   "version": "3.8.3"
  }
 },
 "nbformat": 4,
 "nbformat_minor": 4
}
